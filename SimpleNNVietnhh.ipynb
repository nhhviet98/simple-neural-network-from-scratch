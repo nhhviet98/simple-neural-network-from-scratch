{
  "nbformat": 4,
  "nbformat_minor": 0,
  "metadata": {
    "colab": {
      "name": "SimpleNNVietnhh.ipynb",
      "provenance": [],
      "collapsed_sections": []
    },
    "kernelspec": {
      "name": "python3",
      "display_name": "Python 3"
    }
  },
  "cells": [
    {
      "cell_type": "markdown",
      "metadata": {
        "id": "1vBGl3Zxuab2"
      },
      "source": [
        "# Build a simple Neural Network\r\n",
        "\r\n",
        "In this project, we will build a simple neural network from scratch using Numpy:\r\n",
        " library\r\n",
        "\r\n",
        " ![ModelStructure.PNG](data:image/png;base64,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)"
      ]
    },
    {
      "cell_type": "code",
      "metadata": {
        "id": "VNzyVArIuSEG"
      },
      "source": [
        "import numpy as np\r\n",
        "import matplotlib.pyplot as plt\r\n",
        "import time\r\n",
        "from tqdm import tqdm"
      ],
      "execution_count": 1,
      "outputs": []
    },
    {
      "cell_type": "markdown",
      "metadata": {
        "id": "685xaaBuu6s_"
      },
      "source": [
        "# First I will code some class"
      ]
    },
    {
      "cell_type": "markdown",
      "metadata": {
        "id": "LgBO3OHHvGtY"
      },
      "source": [
        "## Activation Functions Class"
      ]
    },
    {
      "cell_type": "markdown",
      "metadata": {
        "id": "lZvB53k3vTzq"
      },
      "source": [
        "**In this project, we only support some activation function below:**\r\n",
        "\r\n",
        "* sigmoid\r\n",
        "* tanh\r\n",
        "* sign"
      ]
    },
    {
      "cell_type": "code",
      "metadata": {
        "id": "hPGNj3WlvLC7"
      },
      "source": [
        "class ActivationFunction:\r\n",
        "    @staticmethod\r\n",
        "    def sigmoid(z):\r\n",
        "        return 1 / (1 + np.exp(-z))\r\n",
        "\r\n",
        "    @staticmethod\r\n",
        "    def tanh(z):\r\n",
        "        return np.tanh(z)\r\n",
        "\r\n",
        "    @staticmethod\r\n",
        "    def sign(z):\r\n",
        "        return np.sign(z)\r\n",
        "\r\n",
        "    def sigmoid_derivative(self, da, z):\r\n",
        "        sig = self.sigmoid(z)\r\n",
        "        return da * sig * (1 - sig)\r\n",
        "\r\n",
        "    def tanh_derivative(self, da, z):\r\n",
        "        tanh = self.tanh(z)\r\n",
        "        return da*(1-tanh**2)\r\n",
        "\r\n",
        "    @staticmethod\r\n",
        "    def sign_derivative(self, da, z):\r\n",
        "        return np.zeros(z.shape[0], da.shape[0])"
      ],
      "execution_count": 2,
      "outputs": []
    },
    {
      "cell_type": "markdown",
      "metadata": {
        "id": "NnMXk_qpvOrE"
      },
      "source": [
        "## Sequential Class"
      ]
    },
    {
      "cell_type": "markdown",
      "metadata": {
        "id": "3RSud9zYvwJ1"
      },
      "source": [
        "Because we build a ANN, so we only support Dense layers."
      ]
    },
    {
      "cell_type": "code",
      "metadata": {
        "id": "hcR9yobovpUU"
      },
      "source": [
        "class Sequential:\r\n",
        "    def __init__(self):\r\n",
        "        self.nn_architecture = []\r\n",
        "        # Feed Forward\r\n",
        "        self.w = []\r\n",
        "        self.b = []\r\n",
        "        self.a = []\r\n",
        "        self.z = []\r\n",
        "        self.L = 0\r\n",
        "        self.input_shape = 0\r\n",
        "        # Back Propagation\r\n",
        "        self.dw = []\r\n",
        "        self.db = []\r\n",
        "        self.da = []\r\n",
        "        self.dz = []\r\n",
        "\r\n",
        "    def _init_layer(self, shape1: int, shape2: int):\r\n",
        "        \"\"\"\r\n",
        "        Init layers parameters when you add new layer.\r\n",
        "        :param shape1: int\r\n",
        "            Number of neural unit of new layer.\r\n",
        "        :param shape2: int\r\n",
        "            Number of neural unit of latest layer.\r\n",
        "        :return:\r\n",
        "        \"\"\"\r\n",
        "        np.random.seed(3010)\r\n",
        "        # Feed Forward\r\n",
        "        self.w.append(np.random.rand(shape1, shape2)*0.1)\r\n",
        "        self.b.append(np.zeros((1, shape1)))\r\n",
        "        self.a.append(np.zeros((1, shape1)))\r\n",
        "        self.z.append(np.zeros((1, shape1)))\r\n",
        "\r\n",
        "        # Back propagation\r\n",
        "        self.dw.append(np.zeros((shape1, shape2)))\r\n",
        "        self.db.append(np.zeros((1, shape1)))\r\n",
        "        self.da.append(np.zeros((1, shape1)))\r\n",
        "        self.dz.append(np.zeros((1, shape1)))\r\n",
        "\r\n",
        "    def add(self, layer_name: str, n_unit: int, activation: str = None):\r\n",
        "        \"\"\"\r\n",
        "        Add new layer to your neural network.\r\n",
        "        :param layer_name: str\r\n",
        "            Name of your layers.\r\n",
        "            In this project we only support \"input\", \"dense\", \"output\" layers.\r\n",
        "        :param n_unit: int\r\n",
        "            Number of neural unit of new layer\r\n",
        "        :param activation: str\r\n",
        "            Activation function that you want in this layer.\r\n",
        "            In this project we only support \"sigmoid\", \"tanh\", \"sign\" functions.\r\n",
        "        :return:\r\n",
        "        \"\"\"\r\n",
        "        full_layer_name = str(self.L) + '_' + layer_name + '_' + str(n_unit) + '_' + str(activation)\r\n",
        "        self.nn_architecture.append((full_layer_name, activation))\r\n",
        "        if layer_name == 'input':\r\n",
        "            self.input_shape = n_unit\r\n",
        "            self._init_layer(0, 0)\r\n",
        "        elif self.L == 1:\r\n",
        "            self._init_layer(n_unit, self.input_shape)\r\n",
        "        else:\r\n",
        "            self._init_layer(n_unit, self.w[self.L - 1].shape[0])\r\n",
        "        self.L += 1\r\n",
        "        print(\"-> added layer\", full_layer_name)\r\n",
        "\r\n",
        "    def _forward_propagation(self, x_train: np.ndarray) -> np.ndarray:\r\n",
        "        \"\"\"\r\n",
        "        Feed forward phase when training model.\r\n",
        "        :param x_train: np.ndarray\r\n",
        "            Input of your training set.\r\n",
        "        :return: np.ndarray\r\n",
        "            Your y_hat output\r\n",
        "        \"\"\"\r\n",
        "        self.a[0] = x_train\r\n",
        "        for l in range(1, self.L):\r\n",
        "            activation = self.nn_architecture[l][1]\r\n",
        "            if activation == 'sigmoid':\r\n",
        "                activation_function = ActivationFunction().sigmoid\r\n",
        "            elif activation == 'tanh':\r\n",
        "                activation_function = ActivationFunction().tanh\r\n",
        "            elif activation == 'sign':\r\n",
        "                activation_function = ActivationFunction().sign\r\n",
        "            else:\r\n",
        "                raise Exception(f\"We don't support {activation} function\")\r\n",
        "\r\n",
        "            self.z[l] = self.a[l - 1] @ self.w[l].T + self.b[l]\r\n",
        "            self.a[l] = activation_function(self.z[l])\r\n",
        "        return self.a[self.L - 1]\r\n",
        "\r\n",
        "    def _back_propagation(self, y_train: np.ndarray, y_hat: np.ndarray):\r\n",
        "        \"\"\"\r\n",
        "        Back propagation phase when training model.\r\n",
        "        :param y_train: np.ndarray\r\n",
        "            Labels of your training set.\r\n",
        "        :param y_hat: np.ndarray\r\n",
        "            y_hat of feedforward phase\r\n",
        "        :return: None\r\n",
        "        \"\"\"\r\n",
        "        m = y_train.shape[0]\r\n",
        "        self.da[self.L-1] = -(np.divide(y_train, y_hat) - np.divide(1 - y_train, 1 - y_hat))\r\n",
        "        for l in reversed(range(1, self.L)):\r\n",
        "            activation = self.nn_architecture[l][1]\r\n",
        "            if activation == 'sigmoid':\r\n",
        "                activation_derivative = ActivationFunction().sigmoid_derivative\r\n",
        "            elif activation == 'tanh':\r\n",
        "                activation_derivative = ActivationFunction().tanh_derivative\r\n",
        "            elif activation == 'sign':\r\n",
        "                activation_derivative = ActivationFunction().sign_derivative\r\n",
        "            else:\r\n",
        "                raise Exception(f\"We don't support {activation} function\")\r\n",
        "\r\n",
        "            self.dz[l] = activation_derivative(self.da[l], self.z[l])\r\n",
        "            self.dw[l] = np.dot(self.dz[l].T, self.a[l-1]) / m\r\n",
        "            self.db[l] = np.sum(self.dz[l], axis=0, keepdims=True) / m\r\n",
        "            self.da[l-1] = np.dot(self.dz[l], self.w[l])\r\n",
        "\r\n",
        "    def _update_model(self, learning_rate: float):\r\n",
        "        \"\"\"\r\n",
        "        Update weight and bias of model.\r\n",
        "        :param learning_rate: float\r\n",
        "            Learning rate hyper parameters.\r\n",
        "        :return: None\r\n",
        "        \"\"\"\r\n",
        "        for l in range(1, self.L):\r\n",
        "            self.w[l] = self.w[l] - learning_rate*self.dw[l]\r\n",
        "            self.b[l] = self.b[l] - learning_rate*self.db[l]\r\n",
        "\r\n",
        "    @staticmethod\r\n",
        "    def _cost_function(y_train: np.ndarray, y_hat: np.ndarray) -> float:\r\n",
        "        \"\"\"\r\n",
        "        Calculate cost function of your model after each epochs.\r\n",
        "        :param y_train:\r\n",
        "        :param y_hat:\r\n",
        "        :return: float\r\n",
        "        \"\"\"\r\n",
        "        m = y_train.shape[0]\r\n",
        "        cost = -1 / m * (np.dot(y_train.T, np.log(y_hat)) + np.dot((1 - y_train).T, np.log(1 - y_hat)))\r\n",
        "        return cost[0, 0]\r\n",
        "\r\n",
        "    def fit(self, x_train: np.ndarray, y_train: np.ndarray, epochs: int, learning_rate: float) -> list:\r\n",
        "        \"\"\"\r\n",
        "        Training model with inputs are your training set.\r\n",
        "        :param x_train: np.ndarray\r\n",
        "            Input of your training set\r\n",
        "        :param y_train: np.ndarray\r\n",
        "            Output of your training set\r\n",
        "        :param epochs: int\r\n",
        "            Number of iterator that you want\r\n",
        "        :param learning_rate: float\r\n",
        "            Learning rate to update model\r\n",
        "        :return: list\r\n",
        "            Cost history of training phase after each epochs\r\n",
        "        \"\"\"\r\n",
        "        cost_history = []\r\n",
        "        for epoch in tqdm(range(epochs)):\r\n",
        "            y_hat = self._forward_propagation(x_train)\r\n",
        "            loss = self._cost_function(y_train, y_hat)\r\n",
        "            cost_history.append(loss)\r\n",
        "            self._back_propagation(y_train, y_hat)\r\n",
        "            self._update_model(learning_rate)\r\n",
        "        return cost_history\r\n",
        "\r\n",
        "    def predict(self, x_test: np.ndarray) -> np.ndarray:\r\n",
        "        \"\"\"\r\n",
        "        Predict test set with trained model.\r\n",
        "        :param x_test: np.ndarray\r\n",
        "            Input of your testing set\r\n",
        "        :return: np.ndarray\r\n",
        "            Predicted labels of your testing set\r\n",
        "        \"\"\"\r\n",
        "        y_hat = self._forward_propagation(x_test)\r\n",
        "        y_pred = np.where(y_hat >= 0.5, 1, 0)\r\n",
        "        return y_pred\r\n",
        "\r\n",
        "    @staticmethod\r\n",
        "    def accuracy_score(y_test: np.ndarray, y_pred: np.ndarray) -> float:\r\n",
        "        \"\"\"\r\n",
        "        Accuracy of your test set\r\n",
        "        :param y_test: np.ndarray\r\n",
        "            True labels of your testing set\r\n",
        "        :param y_pred: np.ndarray\r\n",
        "            Predicted labels of your testing set\r\n",
        "        :return: float\r\n",
        "            Accuracy score of your test set\r\n",
        "        \"\"\"\r\n",
        "        return sum(np.equal(y_test, y_pred))[0] / len(y_test)"
      ],
      "execution_count": 3,
      "outputs": []
    },
    {
      "cell_type": "markdown",
      "metadata": {
        "id": "a-n4mFQ4vub0"
      },
      "source": [
        "# Main code"
      ]
    },
    {
      "cell_type": "markdown",
      "metadata": {
        "id": "Ljb6NpMgwYfa"
      },
      "source": [
        "### Initialize"
      ]
    },
    {
      "cell_type": "code",
      "metadata": {
        "id": "XodBlBQxwVX3"
      },
      "source": [
        "NUMBER_SAMPLES = 100\r\n",
        "PLOT = True\r\n",
        "EPOCHS = 10000\r\n",
        "LEARNING_RATE = 0.1"
      ],
      "execution_count": 4,
      "outputs": []
    },
    {
      "cell_type": "markdown",
      "metadata": {
        "id": "UYx9ybaow1PH"
      },
      "source": [
        "### Create training set"
      ]
    },
    {
      "cell_type": "code",
      "metadata": {
        "id": "fkOUWytBw5yR"
      },
      "source": [
        "# Create training data\r\n",
        "np.random.seed(3010)\r\n",
        "mean = [0, 0]\r\n",
        "cov = [[1, 0], [0, 1]]\r\n",
        "x, y = np.random.multivariate_normal(mean, cov, NUMBER_SAMPLES).T\r\n",
        "x_train = np.concatenate((x.reshape(NUMBER_SAMPLES, 1), y.reshape(NUMBER_SAMPLES, 1)), axis=1)\r\n",
        "y_train = np.where(x >= 0, 1.0, 0.0).reshape(NUMBER_SAMPLES, 1)"
      ],
      "execution_count": 5,
      "outputs": []
    },
    {
      "cell_type": "markdown",
      "metadata": {
        "id": "PHuk8wAHw93O"
      },
      "source": [
        "We want to visualize this data"
      ]
    },
    {
      "cell_type": "code",
      "metadata": {
        "colab": {
          "base_uri": "https://localhost:8080/",
          "height": 265
        },
        "id": "R0x-7eUcxCkZ",
        "outputId": "7393dcc2-6f12-46c1-ba45-ba58636fddcc"
      },
      "source": [
        "# Plot scatter data point\r\n",
        "if PLOT:\r\n",
        "    plt.scatter(x=x_train[:, 0], y=x_train[:, 1], c=np.squeeze(y_train))\r\n",
        "    plt.axis('equal')\r\n",
        "    plt.show()"
      ],
      "execution_count": 6,
      "outputs": [
        {
          "output_type": "display_data",
          "data": {
            "image/png": "[encoded data removed]",
            "text/plain": [
              "<Figure size 432x288 with 1 Axes>"
            ]
          },
          "metadata": {
            "tags": [],
            "needs_background": "light"
          }
        }
      ]
    },
    {
      "cell_type": "markdown",
      "metadata": {
        "id": "edZB949lxL87"
      },
      "source": [
        "# Build model"
      ]
    },
    {
      "cell_type": "markdown",
      "metadata": {
        "id": "kUiChsTrxQaC"
      },
      "source": [
        "**We also can build another structures like change activation function, number of neural, number of layer, ...**"
      ]
    },
    {
      "cell_type": "code",
      "metadata": {
        "colab": {
          "base_uri": "https://localhost:8080/"
        },
        "id": "fzX-5WmexLj0",
        "outputId": "dc7f9736-169f-4122-a3a7-ab5c044d4fcd"
      },
      "source": [
        "# Model\r\n",
        "model = Sequential()\r\n",
        "model.add(layer_name='input', n_unit=2, activation=None)\r\n",
        "model.add(layer_name='dense', n_unit=3, activation='sigmoid')\r\n",
        "model.add(layer_name='dense', n_unit=2, activation='tanh')\r\n",
        "model.add(layer_name='output', n_unit=1, activation='sigmoid')"
      ],
      "execution_count": 7,
      "outputs": [
        {
          "output_type": "stream",
          "text": [
            "-> added layer 0_input_2_None\n",
            "-> added layer 1_dense_3_sigmoid\n",
            "-> added layer 2_dense_2_tanh\n",
            "-> added layer 3_output_1_sigmoid\n"
          ],
          "name": "stdout"
        }
      ]
    },
    {
      "cell_type": "markdown",
      "metadata": {
        "id": "Og-VsWKgxrlp"
      },
      "source": [
        "# Training model"
      ]
    },
    {
      "cell_type": "code",
      "metadata": {
        "colab": {
          "base_uri": "https://localhost:8080/"
        },
        "id": "NNuSVOR3xt_0",
        "outputId": "2e2df16b-0a2e-4ccf-aeb0-77e4a11407c9"
      },
      "source": [
        "# Training model\r\n",
        "t1 = time.time()\r\n",
        "loss = model.fit(x_train, y_train, epochs=EPOCHS, learning_rate=LEARNING_RATE)\r\n",
        "t2 = time.time()\r\n",
        "print(\"\\nTime to train = \", t2 - t1)"
      ],
      "execution_count": 8,
      "outputs": [
        {
          "output_type": "stream",
          "text": [
            "100%|██████████| 10000/10000 [00:02<00:00, 4450.76it/s]"
          ],
          "name": "stderr"
        },
        {
          "output_type": "stream",
          "text": [
            "\n",
            "Time to train =  2.2527458667755127\n"
          ],
          "name": "stdout"
        },
        {
          "output_type": "stream",
          "text": [
            "\n"
          ],
          "name": "stderr"
        }
      ]
    },
    {
      "cell_type": "markdown",
      "metadata": {
        "id": "jgkYmnb3xxD6"
      },
      "source": [
        "# Plot loss history after each epochs"
      ]
    },
    {
      "cell_type": "code",
      "metadata": {
        "colab": {
          "base_uri": "https://localhost:8080/",
          "height": 483
        },
        "id": "uuloJf2tx4A1",
        "outputId": "d4e4ae56-5e7e-4fc2-e78e-06e82ce2f430"
      },
      "source": [
        "# Plot loss graph\r\n",
        "if PLOT:\r\n",
        "    plt.figure(figsize=(12, 8))\r\n",
        "    plt.plot(range(EPOCHS), loss)\r\n",
        "    plt.show()"
      ],
      "execution_count": 9,
      "outputs": [
        {
          "output_type": "display_data",
          "data": {
            "image/png": "[encoded data removed]",
            "text/plain": [
              "<Figure size 864x576 with 1 Axes>"
            ]
          },
          "metadata": {
            "tags": [],
            "needs_background": "light"
          }
        }
      ]
    },
    {
      "cell_type": "markdown",
      "metadata": {
        "id": "rRtBBCNHyF9o"
      },
      "source": [
        "### Predict and evaluate model using training set"
      ]
    },
    {
      "cell_type": "code",
      "metadata": {
        "colab": {
          "base_uri": "https://localhost:8080/"
        },
        "id": "9NPAqsr6yEsS",
        "outputId": "ed17e34a-e902-484b-d51b-24984fd624ee"
      },
      "source": [
        " # Predict training set\r\n",
        "t1 = time.time()\r\n",
        "y_pred = model.predict(x_train)\r\n",
        "t2 = time.time()\r\n",
        "print(\"Time to test\", t2 - t1)\r\n",
        "accuracy = model.accuracy_score(y_train, y_pred)\r\n",
        "print(\"Accuracy Train = \", accuracy)"
      ],
      "execution_count": 10,
      "outputs": [
        {
          "output_type": "stream",
          "text": [
            "Time to test 0.00032639503479003906\n",
            "Accuracy Train =  1.0\n"
          ],
          "name": "stdout"
        }
      ]
    },
    {
      "cell_type": "markdown",
      "metadata": {
        "id": "0-bxZpt9zBUh"
      },
      "source": [
        "### Create test set with another numpy random seed"
      ]
    },
    {
      "cell_type": "code",
      "metadata": {
        "id": "_2UsnfhxzApv"
      },
      "source": [
        "np.random.seed(1998)\r\n",
        "x, y = np.random.multivariate_normal(mean, cov, NUMBER_SAMPLES).T\r\n",
        "x_test = np.concatenate((x.reshape(NUMBER_SAMPLES, 1), y.reshape(NUMBER_SAMPLES, 1)), axis=1)\r\n",
        "y_test = np.where(x >= 0, 1.0, 0.0).reshape(NUMBER_SAMPLES, 1)"
      ],
      "execution_count": 11,
      "outputs": []
    },
    {
      "cell_type": "markdown",
      "metadata": {
        "id": "dLOB-RUuzLGa"
      },
      "source": [
        "### Plot data of test set"
      ]
    },
    {
      "cell_type": "code",
      "metadata": {
        "colab": {
          "base_uri": "https://localhost:8080/",
          "height": 265
        },
        "id": "oUk6vEBgzKsQ",
        "outputId": "c6e802c5-c8d8-4d2e-b006-43fa9acb2a9c"
      },
      "source": [
        "if PLOT:\r\n",
        "    plt.scatter(x=x_test[:, 0], y=x_test[:, 1], c=np.squeeze(y_test))\r\n",
        "    plt.axis('equal')\r\n",
        "    plt.show()"
      ],
      "execution_count": 12,
      "outputs": [
        {
          "output_type": "display_data",
          "data": {
            "image/png": "[encoded data removed]",
            "text/plain": [
              "<Figure size 432x288 with 1 Axes>"
            ]
          },
          "metadata": {
            "tags": [],
            "needs_background": "light"
          }
        }
      ]
    },
    {
      "cell_type": "markdown",
      "metadata": {
        "id": "rNzo-gEvzT-4"
      },
      "source": [
        "### Predict and evaluate model using training set"
      ]
    },
    {
      "cell_type": "code",
      "metadata": {
        "id": "kIzWxsD30dRx"
      },
      "source": [
        ""
      ],
      "execution_count": null,
      "outputs": []
    },
    {
      "cell_type": "code",
      "metadata": {
        "colab": {
          "base_uri": "https://localhost:8080/"
        },
        "id": "ubfuag5CzTmN",
        "outputId": "974ee0b2-3f9f-4942-b140-3015bb8cdf4c"
      },
      "source": [
        "# Predict test set\r\n",
        "y_pred = model.predict(x_test)\r\n",
        "accuracy = model.accuracy_score(y_test, y_pred)\r\n",
        "print(\"Accuracy Test = \", accuracy)"
      ],
      "execution_count": 13,
      "outputs": [
        {
          "output_type": "stream",
          "text": [
            "Accuracy Test =  0.99\n"
          ],
          "name": "stdout"
        }
      ]
    },
    {
      "cell_type": "markdown",
      "metadata": {
        "id": "sbcyrXtezkLb"
      },
      "source": [
        "**Because we have very few in training set, so when you choose another seed, you should choose another hyper parameters like number epochs, learning rate, ... Or you can even change the neural network structure using \"add\" method or change the number of neural or activation function in this models**\r\n",
        "\r\n"
      ]
    }
  ]
}